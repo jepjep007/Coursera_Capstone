{
 "cells": [
  {
   "cell_type": "markdown",
   "metadata": {},
   "source": [
    "## Data Section"
   ]
  },
  {
   "cell_type": "markdown",
   "metadata": {},
   "source": [
    "#### A data set centered around Seattle was collected by the Seattle Department of Transportation Traffic Management Division dating from 2004 to the present. This set contains records of reported accidents in this community and contains 37 independent variables with a total of 194,673 rows of data. In this data set, ‘SEVERITYCODE’ will serve as the target variable as this measures the severity of an accident from a scale of 0 to 4. \n",
    "\n",
    "#### The severity codes are defined as follows:\n",
    "\n",
    "#### 0: Little to no Probability - Unknown\n",
    "#### 1: Very Low Probability - Property damage\n",
    "#### 2: Low Probability - Injury\n",
    "#### 3: High Probability – Fatality\n",
    "\n",
    "#### In addition to the aforementioned target variable, the following attributes are factors as to the severity of an accident: ‘WEATHER’, ‘ROADCOND’, and ‘LIGHTCOND’. Lastly, there are null values seen in several records; therefore, the data will need to be pre-processed.\n"
   ]
  },
  {
   "cell_type": "code",
   "execution_count": null,
   "metadata": {},
   "outputs": [],
   "source": []
  }
 ],
 "metadata": {
  "kernelspec": {
   "display_name": "Python",
   "language": "python",
   "name": "conda-env-python-py"
  },
  "language_info": {
   "codemirror_mode": {
    "name": "ipython",
    "version": 3
   },
   "file_extension": ".py",
   "mimetype": "text/x-python",
   "name": "python",
   "nbconvert_exporter": "python",
   "pygments_lexer": "ipython3",
   "version": "3.6.11"
  }
 },
 "nbformat": 4,
 "nbformat_minor": 4
}
