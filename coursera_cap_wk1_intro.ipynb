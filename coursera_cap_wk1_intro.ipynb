{
 "cells": [
  {
   "cell_type": "markdown",
   "metadata": {},
   "source": [
    "## Introduction/Business Problem"
   ]
  },
  {
   "cell_type": "markdown",
   "metadata": {},
   "source": [
    "#### According to the National Safety Council, there have been approximately 38,800 people who died as a result of automobile accidents in 2019. Furthermore, approximately 4.4 million people suffered severe injury that merited them to be admitted for medical attention in the same year (source). In an ongoing effort to determine the severity of an automobile accident based on various conditional factors, a predictive model is required to be developed. Such a model will help as a preventive measure to reduce the amount of automobile collisions in a given area. For purposes of this study, the focus will be on the city of Seattle, Washington."
   ]
  },
  {
   "cell_type": "code",
   "execution_count": null,
   "metadata": {},
   "outputs": [],
   "source": []
  }
 ],
 "metadata": {
  "kernelspec": {
   "display_name": "Python",
   "language": "python",
   "name": "conda-env-python-py"
  },
  "language_info": {
   "codemirror_mode": {
    "name": "ipython",
    "version": 3
   },
   "file_extension": ".py",
   "mimetype": "text/x-python",
   "name": "python",
   "nbconvert_exporter": "python",
   "pygments_lexer": "ipython3",
   "version": "3.6.11"
  }
 },
 "nbformat": 4,
 "nbformat_minor": 4
}
